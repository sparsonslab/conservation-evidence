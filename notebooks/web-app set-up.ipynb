{
 "cells": [
  {
   "cell_type": "markdown",
   "id": "bbe0c6e9-5f63-4fc5-aed4-88ec906fd053",
   "metadata": {},
   "source": [
    "# Set-up of the Cloud App using Azure CLI\n",
    "\n",
    "These Azure CLI commands can be used to set-up and update the web app."
   ]
  },
  {
   "cell_type": "code",
   "execution_count": null,
   "id": "d7d9c783",
   "metadata": {},
   "outputs": [],
   "source": [
    "import subprocess\n",
    "import json\n",
    "import os\n",
    "\n",
    "import psycopg2"
   ]
  },
  {
   "cell_type": "markdown",
   "id": "57d7c5c2",
   "metadata": {},
   "source": [
    "## Login in to Azure CLI"
   ]
  },
  {
   "cell_type": "code",
   "execution_count": null,
   "id": "4896d1b1",
   "metadata": {
    "scrolled": true
   },
   "outputs": [],
   "source": [
    "# This command will bring up a browser window in which to login.\n",
    "subprocess.run([\"az\", \"login\"])"
   ]
  },
  {
   "cell_type": "markdown",
   "id": "08dd3679",
   "metadata": {},
   "source": [
    "## Create a resource group\n",
    "\n",
    "This contains all the resources the app needs."
   ]
  },
  {
   "cell_type": "code",
   "execution_count": null,
   "id": "dfa8010e-4221-4fac-ba01-491c5f1f7ed7",
   "metadata": {},
   "outputs": [],
   "source": [
    "RESOURCE_GROUP_NAME = \"xxxxxxxxxxx\"\n",
    "RESOURCE_GROUP_LOCATION = \"UK south\""
   ]
  },
  {
   "cell_type": "code",
   "execution_count": null,
   "id": "d793c659",
   "metadata": {},
   "outputs": [],
   "source": [
    "# Create a resource group.\n",
    "subprocess.run([\n",
    "    \"az\", \"group\", \"create\",\n",
    "    \"--name\", RESOURCE_GROUP_NAME,\n",
    "    \"--location\", RESOURCE_GROUP_LOCATION\n",
    "])"
   ]
  },
  {
   "cell_type": "markdown",
   "id": "2b1cb404",
   "metadata": {},
   "source": [
    "## Create storage for static files\n",
    "\n",
    "The app's static files (html and javascript)."
   ]
  },
  {
   "cell_type": "code",
   "execution_count": null,
   "id": "d40bb0ac-934e-4484-865a-459aedd75970",
   "metadata": {},
   "outputs": [],
   "source": [
    "STORAGE_ACCOUNT_NAME = \"xxxxxx\"\n",
    "STATIC_CONTAINER_NAME = \"xxxxxxxx\"\n",
    "MEDIA_CONTAINER_NAME = \"xxxxxxxxx\""
   ]
  },
  {
   "cell_type": "code",
   "execution_count": null,
   "id": "54a1fe9b",
   "metadata": {
    "jupyter": {
     "outputs_hidden": true
    }
   },
   "outputs": [],
   "source": [
    "subprocess.run([\n",
    "    \"az\", \"storage\", \"account\", \"create\",\n",
    "    \"--name\", STORAGE_ACCOUNT_NAME,\n",
    "    \"--resource-group\", RESOURCE_GROUP_NAME,\n",
    "    \"--location\", RESOURCE_GROUP_LOCATION,\n",
    "    \"--allow-blob-public-access\", \"true\"\n",
    "])"
   ]
  },
  {
   "cell_type": "code",
   "execution_count": null,
   "id": "34ce4d36-6f26-4dc8-899d-bdfd346d0250",
   "metadata": {
    "jupyter": {
     "outputs_hidden": true
    },
    "scrolled": true
   },
   "outputs": [],
   "source": [
    "# Static storage\n",
    "subprocess.run([\n",
    "    \"az\", \"storage\", \"container\", \"create\",\n",
    "    \"--account-name\", STORAGE_ACCOUNT_NAME,\n",
    "    \"--account-key\", \"xxxxxxxxxxxxxxxxxx\",\n",
    "    \"--name\", STATIC_CONTAINER_NAME,\n",
    "    \"--public-access\", \"blob\",\n",
    "])"
   ]
  },
  {
   "cell_type": "code",
   "execution_count": null,
   "id": "93883aa7-b170-41e5-b1b3-a01fde61c555",
   "metadata": {
    "jupyter": {
     "outputs_hidden": true
    },
    "scrolled": true
   },
   "outputs": [],
   "source": [
    "# Media storage\n",
    "subprocess.run([\n",
    "    \"az\", \"storage\", \"container\", \"create\",\n",
    "    \"--account-name\", STORAGE_ACCOUNT_NAME,\n",
    "    \"--account-key\", \"xxxxxxxxxxxxxxxxxx\",\n",
    "    \"--name\", MEDIA_CONTAINER_NAME,\n",
    "    \"--public-access\", \"blob\",\n",
    "])"
   ]
  },
  {
   "cell_type": "markdown",
   "id": "aefbb2e2",
   "metadata": {},
   "source": [
    "## Create the PostgreSQL database\n",
    "\n",
    "https://learn.microsoft.com/en-gb/azure/postgresql/flexible-server/quickstart-create-server-portal\n",
    "\n",
    "https://learn.microsoft.com/en-us/cli/azure/postgres/flexible-server\n"
   ]
  },
  {
   "cell_type": "code",
   "execution_count": null,
   "id": "20ba6a3d-5d2e-4bee-8284-9c68656394f2",
   "metadata": {},
   "outputs": [],
   "source": [
    "POSTGRES_SERVER_NAME = \"xxxxxx\"\n",
    "POSTGRES_SERVER_USERNAME = \"xxxxxxx\"\n",
    "POSTGRES_SERVER_PASSWORD = \"xxxxxxxx\""
   ]
  },
  {
   "cell_type": "code",
   "execution_count": null,
   "id": "78fb4995",
   "metadata": {
    "scrolled": true
   },
   "outputs": [],
   "source": [
    "# Create the server.\n",
    "# This takes a long time.\n",
    "# Having a problem with this (wants a value for --private-dns-zone) -> try doing this through the portal\n",
    "subprocess.run([\n",
    "    \"az\", \"postgres\", \"flexible-server\", \"create\",\n",
    "    \"--name\", POSTGRES_SERVER_NAME,\n",
    "    \"--resource-group\", RESOURCE_GROUP_NAME,\n",
    "    \"--location\", RESOURCE_GROUP_LOCATION,\n",
    "    \"--public-access\", \"all\",\n",
    "    \"--admin-user\", POSTGRES_SERVER_USERNAME,\n",
    "    \"--admin-password\", POSTGRES_SERVER_PASSWORD,\n",
    "    \"--sku-name\", \"Standard_B1ms\",\n",
    "    \"--tier\", \"Burstable\",\n",
    "    #\"--private-dns-zone\", \"blabla\",\n",
    "    #\"--yes\"\n",
    "])"
   ]
  },
  {
   "cell_type": "code",
   "execution_count": null,
   "id": "e6917583-1166-45f0-9669-bbeb55517403",
   "metadata": {},
   "outputs": [],
   "source": [
    "# Allow the web app access to the database\n",
    "subprocess.run([\n",
    "    \"az\", \"postgres\", \"flexible-server\", \"firewall-rule\", \"create\",\n",
    "    \"--resource-group\", RESOURCE_GROUP_NAME,\n",
    "    \"--name\", POSTGRES_SERVER_NAME,\n",
    "    \"--rule-name\", \"AllowAllWindowsAzureIps\",\n",
    "    \"--start-ip-address\", \"0.0.0.0\",\n",
    "    \"--end-ip-address\", \"0.0.0.0\",\n",
    "])"
   ]
  },
  {
   "cell_type": "markdown",
   "id": "9dd9f59a",
   "metadata": {},
   "source": [
    "## Create the web app"
   ]
  },
  {
   "cell_type": "code",
   "execution_count": null,
   "id": "4a12b72a-5dec-4c7b-a4ca-2c3b27e1584a",
   "metadata": {},
   "outputs": [],
   "source": [
    "WEB_APP_SERVICE_PLAN_NAME = \"xxxxxxxx\"\n",
    "WEB_APP_NAME = \"xxxxxxxx\"  # needs to be unique"
   ]
  },
  {
   "cell_type": "code",
   "execution_count": null,
   "id": "55d8f6ab",
   "metadata": {
    "jupyter": {
     "outputs_hidden": true
    }
   },
   "outputs": [],
   "source": [
    "# Web app service plan\n",
    "subprocess.run([\n",
    "    \"az\", \"appservice\", \"plan\", \"create\",\n",
    "    \"--name\", WEB_APP_SERVICE_PLAN_NAME,\n",
    "    \"--resource-group\", RESOURCE_GROUP_NAME,\n",
    "    \"--sku\", \"B1\",\n",
    "    \"--is-linux\"\n",
    "])"
   ]
  },
  {
   "cell_type": "code",
   "execution_count": null,
   "id": "f83ac59d",
   "metadata": {
    "jupyter": {
     "outputs_hidden": true
    }
   },
   "outputs": [],
   "source": [
    "# Create the web-app\n",
    "subprocess.run([\n",
    "    \"az\", \"webapp\", \"create\",\n",
    "    \"--name\", WEB_APP_NAME,\n",
    "    \"--plan\", WEB_APP_SERVICE_PLAN_NAME,\n",
    "    \"--resource-group\", RESOURCE_GROUP_NAME,\n",
    "    \"--runtime\", \"PYTHON|3.10\",\n",
    "    \"--deployment-local-git\"\n",
    "])"
   ]
  },
  {
   "cell_type": "markdown",
   "id": "01db4ebe-ee21-44e5-bdd1-9b371d908f0e",
   "metadata": {},
   "source": [
    "Enable health check. This allows the removal of 'unhealthy instances' of the app that will sometimes cause the app to not be able to start.\n",
    "\n",
    "https://learn.microsoft.com/en-us/azure/app-service/monitor-instances-health-check?tabs=dotnet\n",
    "\n",
    "web app > monitoring > health check"
   ]
  },
  {
   "cell_type": "markdown",
   "id": "b4973db4",
   "metadata": {},
   "source": [
    "#### Or ........\n",
    "\n",
    "Simple web app installation\n",
    "\n",
    "Set up app\n",
    "From:\n",
    "https://learn.microsoft.com/en-us/azure/app-service/tutorial-python-postgresql-app?tabs=django%2Cwindows&pivots=azure-portal#1-create-app-service-and-postgresql\n",
    "\n",
    "In the azure portal search for \"web app database\" and select the \"web app + database\" option\n",
    "\n",
    "\n",
    "Local Git deployment\n",
    "From:\n",
    "https://learn.microsoft.com/en-us/azure/app-service/deploy-local-git?tabs=portal\n",
    "\n",
    "1) web app > deployment centre > setting > local git, save\n",
    "\n",
    "2) deployment center > settings > git clone uri. Add to pycharm project's remote.\n",
    "\n",
    "\n",
    "pushes have to be from master\n"
   ]
  },
  {
   "cell_type": "markdown",
   "id": "a418545c",
   "metadata": {},
   "source": [
    "## Set the app's environmental variables\n",
    "\n",
    "A single environmental variable, `DJANGO_SETTINGS` is a JSON (encoded as a string) that contains:\n",
    "- Values used for the app's settings.\n",
    "- Values used for connecting to databases."
   ]
  },
  {
   "cell_type": "markdown",
   "id": "aa82f79b",
   "metadata": {},
   "source": [
    "#### Local (development)"
   ]
  },
  {
   "cell_type": "code",
   "execution_count": null,
   "id": "b04712ed",
   "metadata": {},
   "outputs": [],
   "source": [
    "environ_settings_local = {\n",
    "    # Standard.\n",
    "    # https://docs.djangoproject.com/en/5.1/ref/settings/#static-files\n",
    "    \"DEBUG\": \"True\",\n",
    "    \"ALLOWED_HOSTS\": [\"127.0.0.1\"],\n",
    "    \"CSRF_TRUSTED_ORIGINS\": [],\n",
    "    \"SECRET_KEY\": \"xxxxxxxxxxxx\",\n",
    "    \"DATABASES\": {\n",
    "        \"default\": {\n",
    "            \"ENGINE\": \"django.db.backends.sqlite3\",\n",
    "            \"NAME\": \"xxxxxx/xxxxx/db.sqlite3\",\n",
    "            \"HOST\": \"\",\n",
    "            \"PORT\": \"\",\n",
    "            \"USER\": \"\",\n",
    "            \"PASSWORD\": \"\"\n",
    "        },\n",
    "    },\n",
    "    \"STATIC_URL\": \"/static/\",\n",
    "    \"MEDIA_URL\": \"/media/\",\n",
    "    \"STORAGES\": {\n",
    "        \"default\": {\n",
    "            \"BACKEND\": \"django.core.files.storage.FileSystemStorage\",\n",
    "        },\n",
    "        \"staticfiles\": {\n",
    "            \"BACKEND\": \"django.contrib.staticfiles.storage.StaticFilesStorage\"\n",
    "        }\n",
    "    },\n",
    "}"
   ]
  },
  {
   "cell_type": "code",
   "execution_count": null,
   "id": "a8682208",
   "metadata": {},
   "outputs": [],
   "source": [
    "# Paste this string into PyCharm's run configuration window for the run django (\"runserver\"),\n",
    "# as the environmental setting \"DJANGO_SETTINGS\"\n",
    "json.dumps(environ_settings_local)"
   ]
  },
  {
   "cell_type": "markdown",
   "id": "5f4477e0",
   "metadata": {},
   "source": [
    "#### Azure (production)"
   ]
  },
  {
   "cell_type": "code",
   "execution_count": null,
   "id": "9fbd5c9b",
   "metadata": {},
   "outputs": [],
   "source": [
    "environ_settings_production = {\n",
    "    # Standard Django settings.\n",
    "    # https://docs.djangoproject.com/en/5.1/ref/settings/#static-files\n",
    "    \"DEBUG\": \"True\",\n",
    "    \"ALLOWED_HOSTS\": [f\"{WEB_APP_NAME}.azurewebsites.net\"],\n",
    "    \"CSRF_TRUSTED_ORIGINS\": [f\"https://{WEB_APP_NAME}.azurewebsites.net\"],\n",
    "    \"SECRET_KEY\": \"xxxxxxxxxx\",\n",
    "    \"DATABASES\": {\n",
    "        \"default\": {\n",
    "            \"ENGINE\": \"django.db.backends.postgresql\",\n",
    "            \"NAME\": \"postgres\",\n",
    "            \"HOST\": f\"{POSTGRES_SERVER_NAME}.postgres.database.azure.com\",\n",
    "            \"PORT\": \"\",\n",
    "            \"USER\": POSTGRES_SERVER_USERNAME,\n",
    "            \"PASSWORD\": POSTGRES_SERVER_PASSWORD\n",
    "        },\n",
    "    },\n",
    "    \"STATIC_URL\": f\"https://{STORAGE_ACCOUNT_NAME}.blob.core.windows.net/{STATIC_CONTAINER_NAME}/\",\n",
    "    \"MEDIA_URL\": f\"https://{STORAGE_ACCOUNT_NAME}.blob.core.windows.net/{MEDIA_CONTAINER_NAME}/\",\n",
    "    \"STORAGES\": {\n",
    "        \"default\": {\n",
    "            \"BACKEND\": \"sigweb.backend.AzureMediaStorage\",\n",
    "        },\n",
    "        \"staticfiles\": {\n",
    "            \"BACKEND\": \"sigweb.backend.AzureStaticStorage\"\n",
    "        }\n",
    "    },\n",
    "    \n",
    "}"
   ]
  },
  {
   "cell_type": "code",
   "execution_count": null,
   "id": "e80b5e34",
   "metadata": {
    "jupyter": {
     "outputs_hidden": true
    },
    "scrolled": true
   },
   "outputs": [],
   "source": [
    "pestr = json.dumps(environ_settings_production)\n",
    "subprocess.run([\n",
    "    \"az\", \"webapp\", \"config\", \"appsettings\", \"set\",\n",
    "    \"--resource-group\", RESOURCE_GROUP_NAME,\n",
    "    \"--name\", WEB_APP_NAME,\n",
    "    \"--settings\",\n",
    "    f\"DJANGO_SETTINGS={pestr}\"\n",
    "])"
   ]
  },
  {
   "cell_type": "markdown",
   "id": "73a38e6c-e84d-47e3-abc1-dc1af2691867",
   "metadata": {},
   "source": [
    "#### Other Azure variables\n",
    "\n",
    "https://learn.microsoft.com/en-us/azure/app-service/reference-app-settings?tabs=kudu%2Cdotnet"
   ]
  },
  {
   "cell_type": "code",
   "execution_count": null,
   "id": "c72e5b15-c224-4bf2-8050-8fc9448e55ca",
   "metadata": {
    "jupyter": {
     "outputs_hidden": true
    }
   },
   "outputs": [],
   "source": [
    "subprocess.run([\n",
    "    \"az\", \"webapp\", \"config\", \"appsettings\", \"set\",\n",
    "    \"--resource-group\", RESOURCE_GROUP_NAME,\n",
    "    \"--name\", WEB_APP_NAME,\n",
    "    \"--settings\",\n",
    "    \"WEBSITE_START_TIME_LIMIT=500\"\n",
    "])"
   ]
  },
  {
   "cell_type": "code",
   "execution_count": null,
   "id": "d4de4d6e-15c6-48d2-b56b-92be7ae67dc3",
   "metadata": {},
   "outputs": [],
   "source": [
    "subprocess.run([\n",
    "    \"az\", \"webapp\", \"config\", \"appsettings\", \"set\",\n",
    "    \"--resource-group\", RESOURCE_GROUP_NAME,\n",
    "    \"--name\", WEB_APP_NAME,\n",
    "    \"--settings\",\n",
    "    \"WEBSITES_CONTAINER_START_TIME_LIMIT=800\"\n",
    "])"
   ]
  },
  {
   "cell_type": "markdown",
   "id": "a1cb3d73",
   "metadata": {},
   "source": [
    "## Git\n",
    "\n",
    "Push the local source code of the Web App up to the app deployed on Azure.\n",
    "\n",
    "1. Set up the deployed app's remote origin on PyCharm.\n",
    "    * Get URL, user and password from Web App > deployment centre > local git/FTPA credentials.\n",
    "    * In Pycharm > Git > manage remotes\n",
    "2. Push the code to the deployed app's remote.\n"
   ]
  },
  {
   "cell_type": "markdown",
   "id": "3e22b77e",
   "metadata": {},
   "source": [
    "## Migrate\n",
    "\n",
    "web app > development tools > SSH\n",
    "\n",
    "Must do the first two of these everytime.\n",
    "\n",
    "```\n",
    "python manage.py makemigrations\n",
    "\n",
    "python manage.py migrate\n",
    "\n",
    "python manage.py collectstatic\n",
    "\n",
    "python manage.py createsuperuser\n",
    "```"
   ]
  },
  {
   "cell_type": "markdown",
   "id": "bd56bd8f-fc5f-4517-9317-f25e5c80ca83",
   "metadata": {},
   "source": [
    "## Go to website\n",
    "\n",
    "It may take a while to get a good connection"
   ]
  },
  {
   "cell_type": "code",
   "execution_count": null,
   "id": "42b84a92",
   "metadata": {},
   "outputs": [],
   "source": [
    "f\"https://{WEB_APP_NAME}.azurewebsites.net/admin\""
   ]
  },
  {
   "cell_type": "markdown",
   "id": "de8a885a-33af-49f5-b059-72c53b280758",
   "metadata": {},
   "source": [
    "gunicorn --bind=0.0.0.0 --timeout 600 --workers=4 sigweb.wsgi:application"
   ]
  },
  {
   "cell_type": "markdown",
   "id": "333ba429-f295-403a-b3a6-60ed1377837c",
   "metadata": {},
   "source": [
    "## Remote connection to the web app's database\n",
    "\n",
    "If you want to connect to the web app's SQL database from your computer, your computer's public IP will need to be added to the firewall rules of the app.\n",
    "\n",
    "https://www.psycopg.org/docs/usage.html"
   ]
  },
  {
   "cell_type": "code",
   "execution_count": null,
   "id": "9a5906b1-22fe-4ece-b997-7f9a63535403",
   "metadata": {},
   "outputs": [],
   "source": [
    "# Get the \"public IP\" address of this computer.\n",
    "# Use the returned value below.\n",
    "subprocess.run([\"curl\", \"ifcfg.me\"])"
   ]
  },
  {
   "cell_type": "code",
   "execution_count": null,
   "id": "9bde52c7-e4d7-4b4a-b434-141437c008d6",
   "metadata": {},
   "outputs": [],
   "source": [
    "# Allow local access to the database\n",
    "# May take a while.\n",
    "my_local_ip_address = \"46.17.164.101\"\n",
    "subprocess.run([\n",
    "    \"az\", \"postgres\", \"flexible-server\", \"firewall-rule\", \"create\",\n",
    "    \"--resource-group\", RESOURCE_GROUP_NAME,\n",
    "    \"--name\", POSTGRES_SERVER_NAME,\n",
    "    \"--rule-name\", \"AllowMyIP\",\n",
    "    \"--start-ip-address\", my_local_ip_address,\n",
    "    \"--end-ip-address\", my_local_ip_address,\n",
    "])"
   ]
  },
  {
   "cell_type": "code",
   "execution_count": null,
   "id": "6eac8649-6ad8-496a-b08e-714df97fcaf9",
   "metadata": {},
   "outputs": [],
   "source": [
    "# Connect to the database.\n",
    "cd = dict(\n",
    "    host=f\"{POSTGRES_SERVER_NAME}.postgres.database.azure.com\",\n",
    "    port=\"5432\",\n",
    "    dbname=\"postgres\",\n",
    "    user=POSTGRES_SERVER_USERNAME,\n",
    "    password=POSTGRES_SERVER_PASSWORD,\n",
    "    sslmode='require'\n",
    ")\n",
    "conn = psycopg2.connect(**cd)"
   ]
  },
  {
   "cell_type": "code",
   "execution_count": null,
   "id": "4371b65f-e153-4964-bbd7-da9ee7f735fa",
   "metadata": {},
   "outputs": [],
   "source": [
    "cur = conn.cursor()\n",
    "cur.execute(\"\"\"\n",
    "SELECT * FROM xxxxxxx\n",
    "\"\"\")\n",
    "print(cur.fetchall())"
   ]
  },
  {
   "cell_type": "code",
   "execution_count": null,
   "id": "acb28fb6-2a60-4b4f-940f-22c0d2f4edd4",
   "metadata": {},
   "outputs": [],
   "source": [
    "conn.close()"
   ]
  },
  {
   "cell_type": "code",
   "execution_count": null,
   "id": "bcbc5607",
   "metadata": {},
   "outputs": [],
   "source": []
  }
 ],
 "metadata": {
  "kernelspec": {
   "display_name": "Python 3 (ipykernel)",
   "language": "python",
   "name": "python3"
  },
  "language_info": {
   "codemirror_mode": {
    "name": "ipython",
    "version": 3
   },
   "file_extension": ".py",
   "mimetype": "text/x-python",
   "name": "python",
   "nbconvert_exporter": "python",
   "pygments_lexer": "ipython3",
   "version": "3.7.1"
  }
 },
 "nbformat": 4,
 "nbformat_minor": 5
}
